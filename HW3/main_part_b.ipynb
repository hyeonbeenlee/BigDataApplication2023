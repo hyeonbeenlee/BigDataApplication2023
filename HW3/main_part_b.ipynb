{
 "cells": [
  {
   "cell_type": "markdown",
   "metadata": {},
   "source": [
    "## Import packages"
   ]
  },
  {
   "cell_type": "code",
   "execution_count": 1,
   "metadata": {},
   "outputs": [],
   "source": [
    "import os,sys\n",
    "sys.path.append(os.path.abspath(\"..\"))\n",
    "\n",
    "from HW3.helpers_part_b import *"
   ]
  },
  {
   "cell_type": "markdown",
   "metadata": {},
   "source": [
    "## Kaggle: Resample datasets and save"
   ]
  },
  {
   "cell_type": "code",
   "execution_count": 2,
   "metadata": {},
   "outputs": [
    {
     "name": "stdout",
     "output_type": "stream",
     "text": [
      "Saved: data_hourly/kaggle_House_01.csv\n",
      "Saved: data_hourly/kaggle_House_10.csv\n",
      "Saved: data_hourly/kaggle_House_11.csv\n",
      "Saved: data_hourly/kaggle_House_12.csv\n",
      "Saved: data_hourly/kaggle_House_13.csv\n",
      "Saved: data_hourly/kaggle_House_15.csv\n",
      "Saved: data_hourly/kaggle_House_16.csv\n",
      "Saved: data_hourly/kaggle_House_17.csv\n",
      "Saved: data_hourly/kaggle_House_18.csv\n",
      "Saved: data_hourly/kaggle_House_19.csv\n",
      "Saved: data_hourly/kaggle_House_02.csv\n",
      "Saved: data_hourly/kaggle_House_20.csv\n",
      "Saved: data_hourly/kaggle_House_21.csv\n",
      "Saved: data_hourly/kaggle_House_03.csv\n",
      "Saved: data_hourly/kaggle_House_04.csv\n",
      "Saved: data_hourly/kaggle_House_05.csv\n",
      "Saved: data_hourly/kaggle_House_06.csv\n",
      "Saved: data_hourly/kaggle_House_07.csv\n",
      "Saved: data_hourly/kaggle_House_08.csv\n",
      "Saved: data_hourly/kaggle_House_09.csv\n"
     ]
    }
   ],
   "source": [
    "kaggle_resample()"
   ]
  },
  {
   "cell_type": "markdown",
   "metadata": {},
   "source": [
    "## UKEDC: House-wisely aggregate ```dat``` series into single ```csv```"
   ]
  },
  {
   "cell_type": "code",
   "execution_count": 3,
   "metadata": {},
   "outputs": [
    {
     "name": "stdout",
     "output_type": "stream",
     "text": [
      "Saved: data_ukedc/csv/house_1/01-aggregate.csv\n",
      "Saved: data_ukedc/csv/house_1/10-kettle.csv\n",
      "Saved: data_ukedc/csv/house_1/11-toaster.csv\n",
      "Saved: data_ukedc/csv/house_1/12-fridge.csv\n",
      "Saved: data_ukedc/csv/house_1/13-microwave.csv\n",
      "Saved: data_ukedc/csv/house_1/14-lcd_office.csv\n",
      "Saved: data_ukedc/csv/house_1/15-hifi_office.csv\n",
      "Saved: data_ukedc/csv/house_1/16-breadmaker.csv\n",
      "Saved: data_ukedc/csv/house_1/17-amp_livingroom.csv\n",
      "Saved: data_ukedc/csv/house_1/18-adsl_router.csv\n",
      "Saved: data_ukedc/csv/house_1/19-livingroom_s_lamp.csv\n",
      "Saved: data_ukedc/csv/house_1/02-boiler.csv\n",
      "Saved: data_ukedc/csv/house_1/20-soldering_iron.csv\n",
      "Saved: data_ukedc/csv/house_1/21-gigE_&_USBhub.csv\n",
      "Saved: data_ukedc/csv/house_1/22-hoover.csv\n",
      "Saved: data_ukedc/csv/house_1/23-kitchen_dt_lamp.csv\n",
      "Saved: data_ukedc/csv/house_1/24-bedroom_ds_lamp.csv\n",
      "Saved: data_ukedc/csv/house_1/25-lighting_circuit.csv\n",
      "Saved: data_ukedc/csv/house_1/26-livingroom_s_lamp2.csv\n",
      "Saved: data_ukedc/csv/house_1/27-iPad_charger.csv\n",
      "Saved: data_ukedc/csv/house_1/28-subwoofer_livingroom.csv\n",
      "Saved: data_ukedc/csv/house_1/29-livingroom_lamp_tv.csv\n",
      "Saved: data_ukedc/csv/house_1/03-solar_thermal_pump.csv\n",
      "Saved: data_ukedc/csv/house_1/30-DAB_radio_livingroom.csv\n",
      "Saved: data_ukedc/csv/house_1/31-kitchen_lamp2.csv\n",
      "Saved: data_ukedc/csv/house_1/32-kitchen_phone&stereo.csv\n",
      "Saved: data_ukedc/csv/house_1/33-utilityrm_lamp.csv\n",
      "Saved: data_ukedc/csv/house_1/34-samsung_charger.csv\n",
      "Saved: data_ukedc/csv/house_1/35-bedroom_d_lamp.csv\n",
      "Saved: data_ukedc/csv/house_1/36-coffee_machine.csv\n",
      "Saved: data_ukedc/csv/house_1/37-kitchen_radio.csv\n",
      "Saved: data_ukedc/csv/house_1/38-bedroom_chargers.csv\n",
      "Saved: data_ukedc/csv/house_1/39-hair_dryer.csv\n",
      "Saved: data_ukedc/csv/house_1/04-laptop.csv\n",
      "Saved: data_ukedc/csv/house_1/40-straighteners.csv\n",
      "Saved: data_ukedc/csv/house_1/41-iron.csv\n",
      "Saved: data_ukedc/csv/house_1/42-gas_oven.csv\n",
      "Saved: data_ukedc/csv/house_1/43-data_logger_pc.csv\n",
      "Saved: data_ukedc/csv/house_1/44-childs_table_lamp.csv\n",
      "Saved: data_ukedc/csv/house_1/45-childs_ds_lamp.csv\n",
      "Saved: data_ukedc/csv/house_1/46-baby_monitor_tx.csv\n",
      "Saved: data_ukedc/csv/house_1/47-battery_charger.csv\n",
      "Saved: data_ukedc/csv/house_1/48-office_lamp1.csv\n",
      "Saved: data_ukedc/csv/house_1/49-office_lamp2.csv\n",
      "Saved: data_ukedc/csv/house_1/05-washing_machine.csv\n",
      "Saved: data_ukedc/csv/house_1/50-office_lamp3.csv\n",
      "Saved: data_ukedc/csv/house_1/51-office_pc.csv\n",
      "Saved: data_ukedc/csv/house_1/52-office_fan.csv\n",
      "Saved: data_ukedc/csv/house_1/53-LED_printer.csv\n",
      "Saved: data_ukedc/csv/house_1/06-dishwasher.csv\n",
      "Saved: data_ukedc/csv/house_1/07-tv.csv\n",
      "Saved: data_ukedc/csv/house_1/08-kitchen_lights.csv\n",
      "Saved: data_ukedc/csv/house_1/09-htpc.csv\n",
      "Saved: data_ukedc/csv/house_2/01-aggregate.csv\n",
      "Saved: data_ukedc/csv/house_2/10-running_machine.csv\n",
      "Saved: data_ukedc/csv/house_2/11-laptop2.csv\n",
      "Saved: data_ukedc/csv/house_2/12-washing_machine.csv\n",
      "Saved: data_ukedc/csv/house_2/13-dish_washer.csv\n",
      "Saved: data_ukedc/csv/house_2/14-fridge.csv\n",
      "Saved: data_ukedc/csv/house_2/15-microwave.csv\n",
      "Saved: data_ukedc/csv/house_2/16-toaster.csv\n",
      "Saved: data_ukedc/csv/house_2/17-playstation.csv\n",
      "Saved: data_ukedc/csv/house_2/18-modem.csv\n",
      "Saved: data_ukedc/csv/house_2/19-cooker.csv\n",
      "Saved: data_ukedc/csv/house_2/02-laptop.csv\n",
      "Saved: data_ukedc/csv/house_2/03-monitor.csv\n",
      "Saved: data_ukedc/csv/house_2/04-speakers.csv\n",
      "Saved: data_ukedc/csv/house_2/05-server.csv\n",
      "Saved: data_ukedc/csv/house_2/06-router.csv\n",
      "Saved: data_ukedc/csv/house_2/07-server_hdd.csv\n",
      "Saved: data_ukedc/csv/house_2/08-kettle.csv\n",
      "Saved: data_ukedc/csv/house_2/09-rice_cooker.csv\n",
      "Saved: data_ukedc/csv/house_3/01-aggregate.csv\n",
      "Saved: data_ukedc/csv/house_3/02-kettle.csv\n",
      "Saved: data_ukedc/csv/house_3/03-electric_heater.csv\n",
      "Saved: data_ukedc/csv/house_3/04-laptop.csv\n",
      "Saved: data_ukedc/csv/house_3/05-projector.csv\n",
      "Saved: data_ukedc/csv/house_4/01-aggregate.csv\n",
      "Saved: data_ukedc/csv/house_4/02-tv_dvd_digibox_lamp.csv\n",
      "Saved: data_ukedc/csv/house_4/03-kettle_radio.csv\n",
      "Saved: data_ukedc/csv/house_4/04-gas_boiler.csv\n",
      "Saved: data_ukedc/csv/house_4/05-freezer.csv\n",
      "Saved: data_ukedc/csv/house_4/06-washing_machine_microwave_breadmaker.csv\n"
     ]
    }
   ],
   "source": [
    "ukedc_to_csv()"
   ]
  },
  {
   "cell_type": "markdown",
   "metadata": {},
   "source": [
    "## UKEDC: Resample from aggregated ```csv``` and save"
   ]
  },
  {
   "cell_type": "code",
   "execution_count": 5,
   "metadata": {},
   "outputs": [
    {
     "name": "stdout",
     "output_type": "stream",
     "text": [
      "Saved: data_hourly/ukedc_House_01.csv\n",
      "Saved: data_hourly/ukedc_House_02.csv\n",
      "Saved: data_hourly/ukedc_House_03.csv\n",
      "Saved: data_hourly/ukedc_House_04.csv\n"
     ]
    }
   ],
   "source": [
    "ukedc_resample()"
   ]
  },
  {
   "cell_type": "markdown",
   "metadata": {},
   "source": [
    "# DO NOT RUN CODES ABOVE!\n",
    "# DO NOT RUN CODES ABOVE!\n",
    "# DO NOT RUN CODES ABOVE!\n",
    "# DO NOT RUN CODES ABOVE!\n",
    "# DO NOT RUN CODES ABOVE!\n",
    "# DO NOT RUN CODES ABOVE!\n",
    "# DO NOT RUN CODES ABOVE!"
   ]
  },
  {
   "cell_type": "code",
   "execution_count": null,
   "metadata": {},
   "outputs": [],
   "source": [
    "pass\n",
    "pass\n",
    "pass\n",
    "pass\n",
    "pass\n",
    "pass\n",
    "pass\n",
    "pass\n",
    "pass\n",
    "pass"
   ]
  },
  {
   "cell_type": "code",
   "execution_count": null,
   "metadata": {},
   "outputs": [],
   "source": []
  }
 ],
 "metadata": {
  "kernelspec": {
   "display_name": "bigdata",
   "language": "python",
   "name": "python3"
  },
  "language_info": {
   "codemirror_mode": {
    "name": "ipython",
    "version": 3
   },
   "file_extension": ".py",
   "mimetype": "text/x-python",
   "name": "python",
   "nbconvert_exporter": "python",
   "pygments_lexer": "ipython3",
   "version": "3.10.12"
  }
 },
 "nbformat": 4,
 "nbformat_minor": 2
}
