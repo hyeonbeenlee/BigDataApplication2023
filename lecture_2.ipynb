{
    "cells": [
        {
            "cell_type": "markdown",
            "metadata": {},
            "source": [
                "Declaring tuple"
            ]
        },
        {
            "cell_type": "code",
            "execution_count": 4,
            "metadata": {},
            "outputs": [
                {
                    "data": {
                        "text/plain": [
                            "(1, 2, 3)"
                        ]
                    },
                    "execution_count": 4,
                    "metadata": {},
                    "output_type": "execute_result"
                }
            ],
            "source": [
                "_tuple = (1, 2, 3)\n",
                "_tuple"
            ]
        },
        {
            "cell_type": "code",
            "execution_count": 6,
            "metadata": {},
            "outputs": [
                {
                    "data": {
                        "text/plain": [
                            "(1, 2, 3)"
                        ]
                    },
                    "execution_count": 6,
                    "metadata": {},
                    "output_type": "execute_result"
                }
            ],
            "source": [
                "_tuple = 1, 2, 3  # with or without parentheses\n",
                "_tuple"
            ]
        },
        {
            "cell_type": "code",
            "execution_count": 8,
            "metadata": {},
            "outputs": [
                {
                    "data": {
                        "text/plain": [
                            "(1, 2, 3)"
                        ]
                    },
                    "execution_count": 8,
                    "metadata": {},
                    "output_type": "execute_result"
                }
            ],
            "source": [
                "_tuple = tuple([1, 2, 3])\n",
                "_tuple"
            ]
        },
        {
            "cell_type": "markdown",
            "metadata": {},
            "source": [
                "String is also iterable"
            ]
        },
        {
            "cell_type": "code",
            "execution_count": 10,
            "metadata": {},
            "outputs": [
                {
                    "data": {
                        "text/plain": [
                            "('s', 't', 'r', 'i', 'n', 'g')"
                        ]
                    },
                    "execution_count": 10,
                    "metadata": {},
                    "output_type": "execute_result"
                }
            ],
            "source": [
                "string = \"string\"\n",
                "_tuple = tuple(string)\n",
                "_tuple"
            ]
        },
        {
            "cell_type": "code",
            "execution_count": 13,
            "metadata": {},
            "outputs": [
                {
                    "name": "stdout",
                    "output_type": "stream",
                    "text": [
                        "s\n",
                        "t\n",
                        "r\n",
                        "i\n",
                        "n\n",
                        "g\n"
                    ]
                }
            ],
            "source": [
                "# strings are iterable.\n",
                "for s in string:\n",
                "    print(s)"
            ]
        },
        {
            "cell_type": "code",
            "execution_count": 15,
            "metadata": {},
            "outputs": [
                {
                    "data": {
                        "text/plain": [
                            "((1, 2, 3), (4, 5, 6))"
                        ]
                    },
                    "execution_count": 15,
                    "metadata": {},
                    "output_type": "execute_result"
                }
            ],
            "source": [
                "nested_tuple = (1, 2, 3), (4, 5, 6)\n",
                "nested_tuple"
            ]
        },
        {
            "cell_type": "code",
            "execution_count": 17,
            "metadata": {},
            "outputs": [
                {
                    "data": {
                        "text/plain": [
                            "(1, 2, 3)"
                        ]
                    },
                    "execution_count": 17,
                    "metadata": {},
                    "output_type": "execute_result"
                }
            ],
            "source": [
                "nested_tuple[0]"
            ]
        },
        {
            "cell_type": "markdown",
            "metadata": {},
            "source": [
                "Modifying mutable tuple elements"
            ]
        },
        {
            "cell_type": "code",
            "execution_count": 25,
            "metadata": {},
            "outputs": [
                {
                    "name": "stdout",
                    "output_type": "stream",
                    "text": [
                        "Tuple elements cannot be modified\n",
                        "Mutable tuple elements can be modified\n"
                    ]
                }
            ],
            "source": [
                "_tuple = tuple([\"foo\", [1, 2], True])\n",
                "try:\n",
                "    _tuple[2] = False  # cannot be modified\n",
                "except:\n",
                "    print(\"Tuple elements cannot be modified\")\n",
                "\n",
                "try:\n",
                "    _tuple[1].append(3)  # cannot be modified\n",
                "    print(\"Mutable tuple elements can be modified\")\n",
                "except:\n",
                "    print(\"ERROR\")"
            ]
        },
        {
            "cell_type": "markdown",
            "metadata": {},
            "source": [
                "Modifying tuples (extending)"
            ]
        },
        {
            "cell_type": "code",
            "execution_count": 28,
            "metadata": {},
            "outputs": [
                {
                    "data": {
                        "text/plain": [
                            "(1, 2, 3, 4, 5, 6)"
                        ]
                    },
                    "execution_count": 28,
                    "metadata": {},
                    "output_type": "execute_result"
                }
            ],
            "source": [
                "(1, 2, 3) + (4, 5) + (6,)"
            ]
        },
        {
            "cell_type": "code",
            "execution_count": 29,
            "metadata": {},
            "outputs": [
                {
                    "data": {
                        "text/plain": [
                            "(1, 2, 3, 1, 2, 3, 1, 2, 3, 1, 2, 3)"
                        ]
                    },
                    "execution_count": 29,
                    "metadata": {},
                    "output_type": "execute_result"
                }
            ],
            "source": [
                "(1,2,3)*4"
            ]
        },
        {
            "cell_type": "markdown",
            "metadata": {},
            "source": [
                "Unpacking variables"
            ]
        },
        {
            "cell_type": "code",
            "execution_count": 32,
            "metadata": {},
            "outputs": [],
            "source": [
                "x,y,z=(1,2,3)"
            ]
        },
        {
            "cell_type": "code",
            "execution_count": 33,
            "metadata": {},
            "outputs": [],
            "source": [
                "a,b,(c,d)=(1,2,(3,4))"
            ]
        },
        {
            "cell_type": "code",
            "execution_count": 36,
            "metadata": {},
            "outputs": [
                {
                    "name": "stdout",
                    "output_type": "stream",
                    "text": [
                        "1 2 3 4\n"
                    ]
                }
            ],
            "source": [
                "print(a, b, c, d)"
            ]
        },
        {
            "cell_type": "code",
            "execution_count": 38,
            "metadata": {},
            "outputs": [
                {
                    "name": "stdout",
                    "output_type": "stream",
                    "text": [
                        "1 2\n"
                    ]
                }
            ],
            "source": [
                "b, a = a, b\n",
                "print(a, b)"
            ]
        },
        {
            "cell_type": "markdown",
            "metadata": {},
            "source": [
                "Utilizing args and kwargs"
            ]
        },
        {
            "cell_type": "code",
            "execution_count": 1,
            "metadata": {},
            "outputs": [
                {
                    "data": {
                        "text/plain": [
                            "[3, 4, 5]"
                        ]
                    },
                    "execution_count": 1,
                    "metadata": {},
                    "output_type": "execute_result"
                }
            ],
            "source": [
                "values = 1, 2, 3, 4, 5\n",
                "a, b, *rest = values\n",
                "rest"
            ]
        },
        {
            "cell_type": "code",
            "execution_count": 5,
            "metadata": {},
            "outputs": [
                {
                    "data": {
                        "text/plain": [
                            "[1,\n",
                            " 2,\n",
                            " 3,\n",
                            " None,\n",
                            " 7,\n",
                            " 8,\n",
                            " (2, 3),\n",
                            " 1,\n",
                            " 2,\n",
                            " 3,\n",
                            " None,\n",
                            " 7,\n",
                            " 8,\n",
                            " (2, 3),\n",
                            " 1,\n",
                            " 2,\n",
                            " 3,\n",
                            " None,\n",
                            " 7,\n",
                            " 8,\n",
                            " (2, 3),\n",
                            " 1,\n",
                            " 2,\n",
                            " 3,\n",
                            " None,\n",
                            " 7,\n",
                            " 8,\n",
                            " (2, 3)]"
                        ]
                    },
                    "execution_count": 5,
                    "metadata": {},
                    "output_type": "execute_result"
                }
            ],
            "source": [
                "x=[1,2,3,None]+[7,8,(2,3)]\n",
                "x=x*4\n",
                "x\n"
            ]
        },
        {
            "cell_type": "code",
            "execution_count": 10,
            "metadata": {},
            "outputs": [],
            "source": [
                "d1={'a':'some_value','b':[1,2,3,4]}\n",
                "d1[7]='an integer'"
            ]
        },
        {
            "cell_type": "code",
            "execution_count": 11,
            "metadata": {},
            "outputs": [
                {
                    "data": {
                        "text/plain": [
                            "True"
                        ]
                    },
                    "execution_count": 11,
                    "metadata": {},
                    "output_type": "execute_result"
                }
            ],
            "source": [
                "7 in d1"
            ]
        },
        {
            "cell_type": "code",
            "execution_count": 12,
            "metadata": {},
            "outputs": [
                {
                    "data": {
                        "text/plain": [
                            "False"
                        ]
                    },
                    "execution_count": 12,
                    "metadata": {},
                    "output_type": "execute_result"
                }
            ],
            "source": [
                "'some_value' in d1"
            ]
        },
        {
            "cell_type": "code",
            "execution_count": 27,
            "metadata": {},
            "outputs": [
                {
                    "name": "stdout",
                    "output_type": "stream",
                    "text": [
                        "0 4\n",
                        "1 3\n",
                        "2 2\n",
                        "3 1\n",
                        "4 0\n"
                    ]
                },
                {
                    "data": {
                        "text/plain": [
                            "{0: 4, 1: 3, 2: 2, 3: 1, 4: 0}"
                        ]
                    },
                    "execution_count": 27,
                    "metadata": {},
                    "output_type": "execute_result"
                }
            ],
            "source": [
                "tuples = zip(range(5), reversed(range(5)))\n",
                "for a, b in tuples:\n",
                "    print(a, b)\n",
                "mapped=dict(zip(range(5),reversed(range(5))))\n",
                "mapped"
            ]
        },
        {
            "cell_type": "code",
            "execution_count": 29,
            "metadata": {},
            "outputs": [
                {
                    "name": "stdout",
                    "output_type": "stream",
                    "text": [
                        "0 0 9\n",
                        "1 1 8\n",
                        "2 2 7\n",
                        "3 3 6\n",
                        "4 4 5\n",
                        "5 5 4\n",
                        "6 6 3\n",
                        "7 7 2\n",
                        "8 8 1\n",
                        "9 9 0\n"
                    ]
                }
            ],
            "source": [
                "seq1 = range(10)\n",
                "seq2 = reversed(range(10))\n",
                "for idx, (a, b) in enumerate(zip(seq1, seq2)):\n",
                "    print(idx, a, b)"
            ]
        },
        {
            "cell_type": "code",
            "execution_count": 31,
            "metadata": {},
            "outputs": [
                {
                    "data": {
                        "text/plain": [
                            "['A', 'B', 'As']"
                        ]
                    },
                    "execution_count": 31,
                    "metadata": {},
                    "output_type": "execute_result"
                }
            ],
            "source": [
                "strings=['a','b','as']\n",
                "strings=[s.capitalize() for s in strings]\n",
                "strings"
            ]
        },
        {
            "cell_type": "code",
            "execution_count": 33,
            "metadata": {},
            "outputs": [
                {
                    "data": {
                        "text/plain": [
                            "['A', 'B', 'AS']"
                        ]
                    },
                    "execution_count": 33,
                    "metadata": {},
                    "output_type": "execute_result"
                }
            ],
            "source": [
                "strings=[s.upper() for s in strings]\n",
                "strings"
            ]
        },
        {
            "cell_type": "code",
            "execution_count": 43,
            "metadata": {},
            "outputs": [
                {
                    "name": "stdout",
                    "output_type": "stream",
                    "text": [
                        "['Maria']\n",
                        "['Natalia']\n",
                        "['']\n"
                    ]
                },
                {
                    "data": {
                        "text/plain": [
                            "['Maria', 'Natalia', '']"
                        ]
                    },
                    "execution_count": 43,
                    "metadata": {},
                    "output_type": "execute_result"
                }
            ],
            "source": [
                "names_of_interest=[]\n",
                "all_data = [\"Maria\", \"Natalia\", \"David\"]\n",
                "for name in all_data:\n",
                "    enough_as = [name if name.count(\"a\")>= 2 else '']\n",
                "    print(enough_as)\n",
                "    names_of_interest.extend(enough_as)\n",
                "names_of_interest"
            ]
        }
    ],
    "metadata": {
        "kernelspec": {
            "display_name": "bigdata",
            "language": "python",
            "name": "python3"
        },
        "language_info": {
            "codemirror_mode": {
                "name": "ipython",
                "version": 3
            },
            "file_extension": ".py",
            "mimetype": "text/x-python",
            "name": "python",
            "nbconvert_exporter": "python",
            "pygments_lexer": "ipython3",
            "version": "3.10.12"
        },
        "orig_nbformat": 4
    },
    "nbformat": 4,
    "nbformat_minor": 2
}