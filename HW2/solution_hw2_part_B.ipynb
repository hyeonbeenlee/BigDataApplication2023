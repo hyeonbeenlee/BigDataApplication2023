{
 "cells": [
  {
   "cell_type": "markdown",
   "metadata": {},
   "source": [
    "## Imports"
   ]
  },
  {
   "cell_type": "code",
   "execution_count": 1,
   "metadata": {},
   "outputs": [],
   "source": [
    "import hw1_original as org\n",
    "import hw1_revised as rev\n",
    "import time\n",
    "import os, psutil\n",
    "\n",
    "repeat = 100"
   ]
  },
  {
   "cell_type": "markdown",
   "metadata": {},
   "source": [
    "### Computing $W_P, W_F$ using ```np.array```"
   ]
  },
  {
   "cell_type": "code",
   "execution_count": 2,
   "metadata": {},
   "outputs": [
    {
     "name": "stdout",
     "output_type": "stream",
     "text": [
      "100 repeated runs average: 0.0900s, 143.9790MB\n"
     ]
    }
   ],
   "source": [
    "elapsed = 0\n",
    "mem_usage = 0\n",
    "for _ in range(repeat):\n",
    "    t1 = time.perf_counter()\n",
    "    org.Main(verbose=False)\n",
    "    t2 = time.perf_counter()\n",
    "    elapsed += t2 - t1\n",
    "    mem_usage+=(psutil.Process(os.getpid()).memory_info().rss*1e-6) # in MB\n",
    "print(f\"{repeat} repeated runs average: {elapsed/repeat:.4f}s, {mem_usage/repeat:.4f}MB\")"
   ]
  },
  {
   "cell_type": "markdown",
   "metadata": {},
   "source": [
    "### Computing $W_P, W_F$ using ```pd.DataFrame```"
   ]
  },
  {
   "cell_type": "code",
   "execution_count": 3,
   "metadata": {},
   "outputs": [
    {
     "name": "stdout",
     "output_type": "stream",
     "text": [
      "100 repeated runs average: 0.1049s, 144.8534MB\n"
     ]
    }
   ],
   "source": [
    "elapsed = 0\n",
    "mem_usage = 0\n",
    "for _ in range(repeat):\n",
    "    t1 = time.perf_counter()\n",
    "    rev.Main(verbose=False)\n",
    "    t2 = time.perf_counter()\n",
    "    elapsed += t2 - t1\n",
    "    mem_usage+=(psutil.Process(os.getpid()).memory_info().rss*1e-6) # in MB\n",
    "print(f\"{repeat} repeated runs average: {elapsed/repeat:.4f}s, {mem_usage/repeat:.4f}MB\")"
   ]
  }
 ],
 "metadata": {
  "kernelspec": {
   "display_name": "bigdata",
   "language": "python",
   "name": "python3"
  },
  "language_info": {
   "codemirror_mode": {
    "name": "ipython",
    "version": 3
   },
   "file_extension": ".py",
   "mimetype": "text/x-python",
   "name": "python",
   "nbconvert_exporter": "python",
   "pygments_lexer": "ipython3",
   "version": "3.10.13"
  }
 },
 "nbformat": 4,
 "nbformat_minor": 2
}
